{
 "cells": [
  {
   "cell_type": "code",
   "execution_count": 1,
   "id": "fitting-knitting",
   "metadata": {},
   "outputs": [],
   "source": [
    "import torch\n",
    "import torch.nn as nn\n",
    "import torchvision\n",
    "\n",
    "import numpy as np\n",
    "import matplotlib.pyplot as plt\n",
    "import pandas as pd\n",
    "import time\n",
    "import os\n",
    "\n",
    "from torch.utils.data import Dataset, DataLoader\n",
    "# from torch.utils.data.sampler import Sampler\n",
    "import torch.optim as optim\n",
    "import sys\n",
    "sys.path.append('../')\n",
    "sys.path.append('../../')\n",
    "\n",
    "from dataset import CocoDetection, train_transforms, val_transforms, test_transforms\n",
    "from visualize import visualize\n",
    "# from rcnn_model import fasterrcnn_resnet201_fpn, FastRCNNPredictor\n",
    "from engine import evaluate\n",
    "import utils\n",
    "from models.swin import *"
   ]
  },
  {
   "cell_type": "code",
   "execution_count": 2,
   "id": "c655d0f9-b067-43fd-b2ae-cc9953a91727",
   "metadata": {},
   "outputs": [],
   "source": [
    "from models.detection.backbone_utils import swin_fpn_backbone, _validate_trainable_layers\n",
    "from ops.feature_pyramid_network import LastLevelP6P7, LastLevelMaxPool\n",
    "from models.detection.retinanet import RetinaNet\n",
    "from torch.hub import load_state_dict_from_url\n",
    "from models.detection.anchor_utils import AnchorGenerator\n",
    "# from models.detection.backbone_utils import mobilenet_backbone"
   ]
  },
  {
   "cell_type": "code",
   "execution_count": 3,
   "id": "d7acde29-6e29-450f-95ca-04be2b73cb3e",
   "metadata": {},
   "outputs": [],
   "source": [
    "def retinanet_swin_t_fpn(pretrained=False, progress=True,\n",
    "                           num_classes=91, pretrained_backbone=False, trainable_backbone_layers=None, **kwargs):\n",
    "    trainable_backbone_layers = _validate_trainable_layers(\n",
    "        pretrained or pretrained_backbone, trainable_backbone_layers, 5, 3)\n",
    "\n",
    "    if pretrained:\n",
    "        # no need to download the backbone if pretrained is set\n",
    "        pretrained_backbone = False\n",
    "        \n",
    "    anchor_sizes = ((32, 64, 128, 256, 512), ) * 5\n",
    "    aspect_ratios = ((0.5, 0.75, 1.0, 1.5, 2.0),) * len(anchor_sizes)\n",
    "    rpn_anchor_generator=AnchorGenerator(anchor_sizes, aspect_ratios)\n",
    "    \n",
    "    # skip P2 because it generates too many anchors (according to their paper)\n",
    "    backbone = swin_fpn_backbone('swin_t', pretrained_backbone, returned_layers=[2, 3, 4],\n",
    "                                   extra_blocks=LastLevelP6P7(256,256), trainable_layers=trainable_backbone_layers)\n",
    "    \n",
    "    model = RetinaNet(backbone, num_classes, anchor_generator=rpn_anchor_generator, **kwargs)\n",
    "    if pretrained:\n",
    "        state_dict = load_state_dict_from_url(model_urls['retinanet_resnet50_fpn_coco'],\n",
    "                                              progress=progress)\n",
    "        model.load_state_dict(state_dict)\n",
    "        overwrite_eps(model, 0.0)\n",
    "    return model"
   ]
  },
  {
   "cell_type": "code",
   "execution_count": 4,
   "id": "8e85dcca-de7c-4931-9573-b31c5683ab79",
   "metadata": {},
   "outputs": [],
   "source": [
    "import easydict \n",
    "args = easydict.EasyDict({ \"batch_size\": 4, \n",
    "                          \"epochs\": 90, \n",
    "                          \"data\": 0, \n",
    "                          'lr':0.002,\n",
    "                         'momentum':0.9,\n",
    "                         'weight_decay':1e-4,\n",
    "                         'start_epoch':0,\n",
    "                         'gpu':1,\n",
    "                          'workers':12,\n",
    "                         'print_freq':1000,\n",
    "                         'output_dir':'../trained_model/retinanet_swin_v2_t_fpn/'})"
   ]
  },
  {
   "cell_type": "code",
   "execution_count": 5,
   "id": "6d7af831-87c8-4190-bd16-e7168234bf48",
   "metadata": {},
   "outputs": [],
   "source": [
    "from pathlib import Path\n",
    "path = Path(args.output_dir.split('checkpoint')[0])\n",
    "path.mkdir(parents=True, exist_ok=True)  "
   ]
  },
  {
   "cell_type": "code",
   "execution_count": 6,
   "id": "75a03170-914b-4b1d-bcc7-3f9dfc3b39a3",
   "metadata": {},
   "outputs": [
    {
     "name": "stdout",
     "output_type": "stream",
     "text": [
      "3\n",
      "cuda:1\n"
     ]
    }
   ],
   "source": [
    "ngpus_per_node = torch.cuda.device_count()\n",
    "print(ngpus_per_node)\n",
    "GPU_NUM = args.gpu # 원하는 GPU 번호 입력\n",
    "device = torch.device(f'cuda:{GPU_NUM}' if torch.cuda.is_available() else 'cpu')\n",
    "torch.cuda.set_device(device)\n",
    "print(device)"
   ]
  },
  {
   "cell_type": "code",
   "execution_count": 7,
   "id": "a75004cb-f114-4c93-9e61-8b304fafbb75",
   "metadata": {},
   "outputs": [
    {
     "name": "stderr",
     "output_type": "stream",
     "text": [
      "/home/beomgon/anaconda3/envs/pytorch/lib/python3.8/site-packages/torch/functional.py:445: UserWarning: torch.meshgrid: in an upcoming release, it will be required to pass the indexing argument. (Triggered internally at  /opt/conda/conda-bld/pytorch_1634272128894/work/aten/src/ATen/native/TensorShape.cpp:2157.)\n",
      "  return _VF.meshgrid(tensors, **kwargs)  # type: ignore[attr-defined]\n"
     ]
    },
    {
     "name": "stdout",
     "output_type": "stream",
     "text": [
      "return_layers {'layer2': '0', 'layer3': '1', 'layer4': '2'}\n",
      "model is loaded to gpu\n"
     ]
    }
   ],
   "source": [
    "NUM_CLASS = 91\n",
    "IMG_SIZE = 448*2\n",
    "model = retinanet_swin_t_fpn(pretrained=False, min_size=IMG_SIZE, max_size=IMG_SIZE, num_classes=NUM_CLASS)\n",
    "\n",
    "device = torch.device('cuda')\n",
    "model.to(device)\n",
    "print('model is loaded to gpu')"
   ]
  },
  {
   "cell_type": "code",
   "execution_count": 8,
   "id": "6cbb054c-9f18-420b-9f99-e81ca82698e1",
   "metadata": {},
   "outputs": [
    {
     "name": "stdout",
     "output_type": "stream",
     "text": [
      "loading annotations into memory...\n",
      "Done (t=0.03s)\n",
      "creating index...\n",
      "index created!\n",
      "loading annotations into memory...\n",
      "Done (t=0.01s)\n",
      "creating index...\n",
      "index created!\n"
     ]
    }
   ],
   "source": [
    "from dataset import CocoDetection, train_transforms, val_transforms, test_transforms\n",
    "train_dataset = CocoDetection(root='/home/beomgon/Dataset/scl/', annFile='../../data/train.json', \n",
    "                              transforms=train_transforms)\n",
    "test_dataset = CocoDetection(root='/home/beomgon/Dataset/scl/', annFile='../../data/test.json', \n",
    "                              transforms=val_transforms)"
   ]
  },
  {
   "cell_type": "code",
   "execution_count": 9,
   "id": "6828ca37-77b2-49b2-a254-8228ebfdf935",
   "metadata": {},
   "outputs": [
    {
     "data": {
      "text/plain": [
       "{'boxes': tensor([[152.6875, 353.0625, 228.8125, 423.5000]]),\n",
       " 'category_id': tensor([1]),\n",
       " 'labels': tensor([1]),\n",
       " 'image_id': tensor([1]),\n",
       " 'area': tensor([5362.0547]),\n",
       " 'iscrowd': tensor([0])}"
      ]
     },
     "execution_count": 9,
     "metadata": {},
     "output_type": "execute_result"
    }
   ],
   "source": [
    "image, target = next(iter(train_dataset))\n",
    "target\n",
    "                    "
   ]
  },
  {
   "cell_type": "code",
   "execution_count": 10,
   "id": "47c21288-37ac-405b-91b0-e5b93073d7f8",
   "metadata": {},
   "outputs": [],
   "source": [
    "train_sampler = torch.utils.data.RandomSampler(train_dataset)\n",
    "test_sampler = torch.utils.data.SequentialSampler(test_dataset)\n",
    "\n",
    "train_loader = DataLoader(\n",
    "    train_dataset, batch_size=args.batch_size,\n",
    "    sampler=train_sampler, num_workers=args.workers,\n",
    "    collate_fn=utils.collate_fn)\n",
    "\n",
    "test_loader = DataLoader(\n",
    "    test_dataset, batch_size=args.batch_size,\n",
    "    sampler=test_sampler, num_workers=args.workers,\n",
    "    collate_fn=utils.collate_fn)"
   ]
  },
  {
   "cell_type": "code",
   "execution_count": 11,
   "id": "e02e2082-4e0a-49c3-8fea-0c7c8a38ec8f",
   "metadata": {},
   "outputs": [],
   "source": [
    "params = [p for p in model.parameters() if p.requires_grad]\n",
    "# optimizer = torch.optim.Adam(params, lr=args.lr, weight_decay=args.weight_decay)\n",
    "optimizer = torch.optim.SGD(\n",
    "       params, lr=args.lr, momentum=args.momentum, weight_decay=args.weight_decay)\n",
    "lr_scheduler = torch.optim.lr_scheduler.MultiStepLR(optimizer, milestones=[15, 30, 45, 60, 75], \n",
    "                                                    gamma=0.5)"
   ]
  },
  {
   "cell_type": "code",
   "execution_count": 12,
   "id": "aa78dc5c-34c9-4569-9815-1ff16c7e42ad",
   "metadata": {},
   "outputs": [],
   "source": [
    "# g_attn = torch.randn([2, 1024, 96])\n",
    "# print(g_attn.shape)\n",
    "# attn_windows = torch.randn([2048, 7, 7, 96])\n",
    "# print(attn_windows.shape)\n",
    "# # attn_windows = attn_windows.view(B, self.H_, self.W_, self.window_size, self.window_size, C) + g_attn[:,:,None,None,:]\n",
    "# b = attn_windows.view(2, -1, 7, 7, 96) + g_attn[:,:,None,None,:]\n",
    "# b.shape"
   ]
  },
  {
   "cell_type": "code",
   "execution_count": null,
   "id": "29f46c9f-b749-4c50-9f9e-a3d589b472f0",
   "metadata": {},
   "outputs": [
    {
     "name": "stdout",
     "output_type": "stream",
     "text": [
      "Epoch: [0]  [   0/1549]  eta: 1:27:55  lr: 0.000004  loss: 2.4303 (2.4303)  classification: 1.6582 (1.6582)  bbox_regression: 0.7720 (0.7720)  time: 3.4055  data: 1.8936  max mem: 14158\n",
      "Epoch: [0]  [1000/1549]  eta: 0:09:51  lr: 0.002000  loss: 1.8238 (1.9847)  classification: 1.2257 (1.3692)  bbox_regression: 0.5839 (0.6155)  time: 1.0638  data: 0.0169  max mem: 14531\n",
      "Epoch: [0]  [1548/1549]  eta: 0:00:01  lr: 0.002000  loss: 1.6119 (1.9222)  classification: 0.9910 (1.3117)  bbox_regression: 0.6164 (0.6105)  time: 1.0415  data: 0.0158  max mem: 14539\n",
      "Epoch: [0] Total time: 0:27:44 (1.0745 s / it)\n",
      "Epoch: [1]  [   0/1549]  eta: 1:19:16  lr: 0.002000  loss: 1.8279 (1.8279)  classification: 1.1413 (1.1413)  bbox_regression: 0.6866 (0.6866)  time: 3.0709  data: 1.9376  max mem: 14539\n",
      "Epoch: [1]  [1000/1549]  eta: 0:09:48  lr: 0.002000  loss: 1.4281 (1.6882)  classification: 0.9213 (1.1007)  bbox_regression: 0.5311 (0.5876)  time: 1.0668  data: 0.0173  max mem: 14539\n",
      "Epoch: [1]  [1548/1549]  eta: 0:00:01  lr: 0.002000  loss: 1.6368 (1.6486)  classification: 1.1543 (1.0777)  bbox_regression: 0.4783 (0.5709)  time: 1.0519  data: 0.0152  max mem: 14539\n",
      "Epoch: [1] Total time: 0:27:39 (1.0710 s / it)\n",
      "Epoch: [2]  [   0/1549]  eta: 1:13:46  lr: 0.002000  loss: 1.7916 (1.7916)  classification: 1.3494 (1.3494)  bbox_regression: 0.4422 (0.4422)  time: 2.8574  data: 1.7834  max mem: 14539\n",
      "Epoch: [2]  [1000/1549]  eta: 0:09:48  lr: 0.002000  loss: 1.7155 (1.4179)  classification: 1.2283 (0.9023)  bbox_regression: 0.5097 (0.5156)  time: 1.0772  data: 0.0153  max mem: 14539\n",
      "Epoch: [2]  [1548/1549]  eta: 0:00:01  lr: 0.002000  loss: 1.2774 (1.4051)  classification: 0.8243 (0.8965)  bbox_regression: 0.4544 (0.5086)  time: 1.0378  data: 0.0158  max mem: 14539\n",
      "Epoch: [2] Total time: 0:27:37 (1.0703 s / it)\n",
      "Epoch: [3]  [   0/1549]  eta: 1:12:23  lr: 0.002000  loss: 1.3481 (1.3481)  classification: 0.8368 (0.8368)  bbox_regression: 0.5113 (0.5113)  time: 2.8040  data: 1.7336  max mem: 14539\n",
      "Epoch: [3]  [1000/1549]  eta: 0:09:48  lr: 0.002000  loss: 1.1601 (1.2293)  classification: 0.6606 (0.7539)  bbox_regression: 0.4683 (0.4754)  time: 1.0724  data: 0.0164  max mem: 14539\n",
      "Epoch: [3]  [1548/1549]  eta: 0:00:01  lr: 0.002000  loss: 1.0768 (1.2214)  classification: 0.6723 (0.7475)  bbox_regression: 0.4185 (0.4739)  time: 1.0586  data: 0.0179  max mem: 14539\n",
      "Epoch: [3] Total time: 0:27:40 (1.0719 s / it)\n",
      "Epoch: [4]  [   0/1549]  eta: 1:17:18  lr: 0.002000  loss: 1.1191 (1.1191)  classification: 0.6963 (0.6963)  bbox_regression: 0.4228 (0.4228)  time: 2.9945  data: 1.9041  max mem: 14539\n",
      "Epoch: [4]  [1000/1549]  eta: 0:09:48  lr: 0.002000  loss: 1.0516 (1.1343)  classification: 0.6139 (0.6824)  bbox_regression: 0.4151 (0.4519)  time: 1.0697  data: 0.0159  max mem: 14539\n",
      "Epoch: [4]  [1548/1549]  eta: 0:00:01  lr: 0.002000  loss: 0.9895 (1.1237)  classification: 0.5780 (0.6733)  bbox_regression: 0.4263 (0.4504)  time: 1.0499  data: 0.0153  max mem: 14539\n",
      "Epoch: [4] Total time: 0:27:43 (1.0737 s / it)\n",
      "Epoch: [5]  [   0/1549]  eta: 1:10:41  lr: 0.002000  loss: 1.0053 (1.0053)  classification: 0.5729 (0.5729)  bbox_regression: 0.4325 (0.4325)  time: 2.7384  data: 1.6268  max mem: 14539\n",
      "Epoch: [5]  [1000/1549]  eta: 0:09:49  lr: 0.002000  loss: 1.0220 (1.0792)  classification: 0.6363 (0.6455)  bbox_regression: 0.3813 (0.4337)  time: 1.0813  data: 0.0169  max mem: 14539\n",
      "Epoch: [5]  [1548/1549]  eta: 0:00:01  lr: 0.002000  loss: 1.1576 (1.0650)  classification: 0.7458 (0.6327)  bbox_regression: 0.4233 (0.4323)  time: 1.0477  data: 0.0160  max mem: 14539\n",
      "Epoch: [5] Total time: 0:27:41 (1.0729 s / it)\n",
      "Epoch: [6]  [   0/1549]  eta: 1:15:25  lr: 0.002000  loss: 1.5886 (1.5886)  classification: 0.9910 (0.9910)  bbox_regression: 0.5976 (0.5976)  time: 2.9218  data: 1.8081  max mem: 14539\n",
      "Epoch: [6]  [1000/1549]  eta: 0:09:49  lr: 0.002000  loss: 1.0671 (1.0337)  classification: 0.6280 (0.6111)  bbox_regression: 0.4583 (0.4226)  time: 1.0786  data: 0.0169  max mem: 14539\n",
      "Epoch: [6]  [1548/1549]  eta: 0:00:01  lr: 0.002000  loss: 1.0492 (1.0149)  classification: 0.5977 (0.5947)  bbox_regression: 0.4305 (0.4201)  time: 1.0511  data: 0.0159  max mem: 14539\n",
      "Epoch: [6] Total time: 0:27:43 (1.0742 s / it)\n",
      "Epoch: [7]  [   0/1549]  eta: 1:12:58  lr: 0.002000  loss: 0.6990 (0.6990)  classification: 0.3146 (0.3146)  bbox_regression: 0.3843 (0.3843)  time: 2.8269  data: 1.7528  max mem: 14539\n",
      "Epoch: [7]  [1000/1549]  eta: 0:09:49  lr: 0.002000  loss: 0.8150 (0.9687)  classification: 0.4806 (0.5595)  bbox_regression: 0.3656 (0.4092)  time: 1.0847  data: 0.0166  max mem: 14539\n",
      "Epoch: [7]  [1548/1549]  eta: 0:00:01  lr: 0.002000  loss: 0.9953 (0.9743)  classification: 0.5422 (0.5645)  bbox_regression: 0.4280 (0.4098)  time: 1.0450  data: 0.0160  max mem: 14539\n",
      "Epoch: [7] Total time: 0:27:40 (1.0721 s / it)\n",
      "Epoch: [8]  [   0/1549]  eta: 1:14:51  lr: 0.002000  loss: 0.9770 (0.9770)  classification: 0.5795 (0.5795)  bbox_regression: 0.3975 (0.3975)  time: 2.8997  data: 1.8299  max mem: 14539\n",
      "Epoch: [8]  [1000/1549]  eta: 0:09:49  lr: 0.002000  loss: 0.9462 (0.9649)  classification: 0.5362 (0.5608)  bbox_regression: 0.3935 (0.4041)  time: 1.0787  data: 0.0184  max mem: 14539\n",
      "Epoch: [8]  [1548/1549]  eta: 0:00:01  lr: 0.002000  loss: 0.8567 (0.9563)  classification: 0.5250 (0.5535)  bbox_regression: 0.3757 (0.4028)  time: 1.0584  data: 0.0174  max mem: 14539\n",
      "Epoch: [8] Total time: 0:27:43 (1.0738 s / it)\n",
      "Epoch: [9]  [   0/1549]  eta: 1:15:25  lr: 0.002000  loss: 0.9167 (0.9167)  classification: 0.5512 (0.5512)  bbox_regression: 0.3654 (0.3654)  time: 2.9217  data: 1.7906  max mem: 14539\n",
      "Epoch: [9]  [1000/1549]  eta: 0:09:48  lr: 0.002000  loss: 0.8147 (0.9384)  classification: 0.4651 (0.5449)  bbox_regression: 0.3975 (0.3935)  time: 1.0744  data: 0.0161  max mem: 14539\n",
      "Epoch: [9]  [1548/1549]  eta: 0:00:01  lr: 0.002000  loss: 0.8579 (0.9999)  classification: 0.5159 (0.6001)  bbox_regression: 0.3656 (0.3998)  time: 1.0685  data: 0.0163  max mem: 14539\n",
      "Epoch: [9] Total time: 0:27:40 (1.0723 s / it)\n",
      "Epoch: [10]  [   0/1549]  eta: 1:12:54  lr: 0.002000  loss: 0.7498 (0.7498)  classification: 0.4681 (0.4681)  bbox_regression: 0.2818 (0.2818)  time: 2.8239  data: 1.7564  max mem: 14539\n",
      "Epoch: [10]  [1000/1549]  eta: 0:09:49  lr: 0.002000  loss: 0.8097 (0.9324)  classification: 0.4724 (0.5438)  bbox_regression: 0.3534 (0.3886)  time: 1.0682  data: 0.0171  max mem: 14539\n",
      "Epoch: [10]  [1548/1549]  eta: 0:00:01  lr: 0.002000  loss: 0.7846 (0.9237)  classification: 0.4370 (0.5331)  bbox_regression: 0.3369 (0.3906)  time: 1.0476  data: 0.0155  max mem: 14539\n",
      "Epoch: [10] Total time: 0:27:43 (1.0737 s / it)\n",
      "creating index...\n",
      "index created!\n",
      "Test:  [  0/368]  eta: 0:13:58  model_time: 0.3088 (0.3088)  evaluator_time: 0.0244 (0.0244)  time: 2.2773  data: 1.9328  max mem: 14539\n",
      "Test:  [100/368]  eta: 0:01:38  model_time: 0.3010 (0.3024)  evaluator_time: 0.0170 (0.0205)  time: 0.3437  data: 0.0151  max mem: 14539\n",
      "Test:  [200/368]  eta: 0:00:59  model_time: 0.3023 (0.3028)  evaluator_time: 0.0171 (0.0196)  time: 0.3462  data: 0.0154  max mem: 14539\n",
      "Test:  [300/368]  eta: 0:00:24  model_time: 0.3040 (0.3037)  evaluator_time: 0.0197 (0.0192)  time: 0.3515  data: 0.0162  max mem: 14539\n",
      "Test:  [367/368]  eta: 0:00:00  model_time: 0.3021 (0.3033)  evaluator_time: 0.0159 (0.0193)  time: 0.3354  data: 0.0143  max mem: 14539\n",
      "Test: Total time: 0:02:10 (0.3543 s / it)\n",
      "Averaged stats: model_time: 0.3021 (0.3033)  evaluator_time: 0.0159 (0.0193)\n",
      "Accumulating evaluation results...\n",
      "DONE (t=1.47s).\n",
      "IoU metric: bbox\n",
      " Average Precision  (AP) @[ IoU=0.50:0.95 | area=   all | maxDets=100 ] = 0.184\n",
      " Average Precision  (AP) @[ IoU=0.50      | area=   all | maxDets=100 ] = 0.369\n",
      " Average Precision  (AP) @[ IoU=0.75      | area=   all | maxDets=100 ] = 0.159\n",
      " Average Precision  (AP) @[ IoU=0.50:0.95 | area= small | maxDets=100 ] = 0.223\n",
      " Average Precision  (AP) @[ IoU=0.50:0.95 | area=medium | maxDets=100 ] = 0.190\n",
      " Average Precision  (AP) @[ IoU=0.50:0.95 | area= large | maxDets=100 ] = 0.163\n",
      " Average Recall     (AR) @[ IoU=0.50:0.95 | area=   all | maxDets=  1 ] = 0.267\n",
      " Average Recall     (AR) @[ IoU=0.50:0.95 | area=   all | maxDets= 10 ] = 0.469\n",
      " Average Recall     (AR) @[ IoU=0.50:0.95 | area=   all | maxDets=100 ] = 0.536\n",
      " Average Recall     (AR) @[ IoU=0.50:0.95 | area= small | maxDets=100 ] = 0.263\n",
      " Average Recall     (AR) @[ IoU=0.50:0.95 | area=medium | maxDets=100 ] = 0.555\n",
      " Average Recall     (AR) @[ IoU=0.50:0.95 | area= large | maxDets=100 ] = 0.431\n",
      "Epoch: [11]  [   0/1549]  eta: 1:17:14  lr: 0.002000  loss: 1.0265 (1.0265)  classification: 0.6061 (0.6061)  bbox_regression: 0.4204 (0.4204)  time: 2.9921  data: 1.8527  max mem: 14539\n",
      "Epoch: [11]  [1000/1549]  eta: 0:09:49  lr: 0.002000  loss: 0.9208 (0.9038)  classification: 0.5741 (0.5177)  bbox_regression: 0.3820 (0.3861)  time: 1.0726  data: 0.0176  max mem: 14539\n",
      "Epoch: [11]  [1548/1549]  eta: 0:00:01  lr: 0.002000  loss: 0.8268 (0.8972)  classification: 0.4321 (0.5130)  bbox_regression: 0.3634 (0.3841)  time: 1.0492  data: 0.0151  max mem: 14539\n",
      "Epoch: [11] Total time: 0:27:43 (1.0739 s / it)\n",
      "Epoch: [12]  [   0/1549]  eta: 1:21:31  lr: 0.002000  loss: 1.0044 (1.0044)  classification: 0.6538 (0.6538)  bbox_regression: 0.3506 (0.3506)  time: 3.1576  data: 2.0831  max mem: 14539\n",
      "Epoch: [12]  [1000/1549]  eta: 0:09:49  lr: 0.002000  loss: 0.7902 (0.8766)  classification: 0.4697 (0.4982)  bbox_regression: 0.3710 (0.3784)  time: 1.0687  data: 0.0171  max mem: 14539\n",
      "Epoch: [12]  [1548/1549]  eta: 0:00:01  lr: 0.002000  loss: 0.7410 (0.8731)  classification: 0.3963 (0.4947)  bbox_regression: 0.3508 (0.3784)  time: 1.0542  data: 0.0154  max mem: 14539\n",
      "Epoch: [12] Total time: 0:27:41 (1.0723 s / it)\n",
      "Epoch: [13]  [   0/1549]  eta: 1:21:02  lr: 0.002000  loss: 1.0671 (1.0671)  classification: 0.6435 (0.6435)  bbox_regression: 0.4236 (0.4236)  time: 3.1393  data: 2.0455  max mem: 14539\n",
      "Epoch: [13]  [1000/1549]  eta: 0:09:49  lr: 0.002000  loss: 0.8148 (0.8724)  classification: 0.4578 (0.4962)  bbox_regression: 0.3438 (0.3762)  time: 1.0696  data: 0.0191  max mem: 14539\n",
      "Epoch: [13]  [1548/1549]  eta: 0:00:01  lr: 0.002000  loss: 0.7605 (0.8608)  classification: 0.4542 (0.4872)  bbox_regression: 0.3512 (0.3736)  time: 1.0597  data: 0.0160  max mem: 14539\n",
      "Epoch: [13] Total time: 0:27:43 (1.0736 s / it)\n",
      "Epoch: [14]  [   0/1549]  eta: 1:20:24  lr: 0.002000  loss: 0.9001 (0.9001)  classification: 0.4349 (0.4349)  bbox_regression: 0.4651 (0.4651)  time: 3.1149  data: 2.0340  max mem: 14539\n",
      "Epoch: [14]  [1000/1549]  eta: 0:09:50  lr: 0.002000  loss: 0.8142 (0.8346)  classification: 0.4558 (0.4690)  bbox_regression: 0.3596 (0.3656)  time: 1.0801  data: 0.0163  max mem: 14539\n",
      "Epoch: [14]  [1548/1549]  eta: 0:00:01  lr: 0.002000  loss: 0.7585 (0.8400)  classification: 0.4090 (0.4705)  bbox_regression: 0.3350 (0.3695)  time: 1.0422  data: 0.0153  max mem: 14539\n",
      "Epoch: [14] Total time: 0:27:43 (1.0739 s / it)\n",
      "Epoch: [15]  [   0/1549]  eta: 1:16:48  lr: 0.001000  loss: 0.7816 (0.7816)  classification: 0.4280 (0.4280)  bbox_regression: 0.3536 (0.3536)  time: 2.9750  data: 1.8814  max mem: 14539\n",
      "Epoch: [15]  [1000/1549]  eta: 0:09:49  lr: 0.001000  loss: 0.7914 (0.7953)  classification: 0.4626 (0.4377)  bbox_regression: 0.3345 (0.3576)  time: 1.0652  data: 0.0160  max mem: 14539\n",
      "Epoch: [15]  [1548/1549]  eta: 0:00:01  lr: 0.001000  loss: 0.6990 (0.7956)  classification: 0.4088 (0.4392)  bbox_regression: 0.3035 (0.3564)  time: 1.0507  data: 0.0158  max mem: 14539\n",
      "Epoch: [15] Total time: 0:27:42 (1.0731 s / it)\n",
      "creating index...\n",
      "index created!\n",
      "Test:  [  0/368]  eta: 0:14:17  model_time: 0.3163 (0.3163)  evaluator_time: 0.0212 (0.0212)  time: 2.3292  data: 1.9805  max mem: 14539\n",
      "Test:  [100/368]  eta: 0:01:36  model_time: 0.3014 (0.3021)  evaluator_time: 0.0150 (0.0159)  time: 0.3423  data: 0.0142  max mem: 14539\n",
      "Test:  [200/368]  eta: 0:00:59  model_time: 0.3040 (0.3033)  evaluator_time: 0.0163 (0.0170)  time: 0.3484  data: 0.0151  max mem: 14539\n",
      "Test:  [300/368]  eta: 0:00:23  model_time: 0.3027 (0.3032)  evaluator_time: 0.0168 (0.0165)  time: 0.3466  data: 0.0152  max mem: 14539\n",
      "Test:  [367/368]  eta: 0:00:00  model_time: 0.3025 (0.3029)  evaluator_time: 0.0136 (0.0166)  time: 0.3355  data: 0.0151  max mem: 14539\n",
      "Test: Total time: 0:02:09 (0.3507 s / it)\n",
      "Averaged stats: model_time: 0.3025 (0.3029)  evaluator_time: 0.0136 (0.0166)\n",
      "Accumulating evaluation results...\n",
      "DONE (t=1.29s).\n",
      "IoU metric: bbox\n",
      " Average Precision  (AP) @[ IoU=0.50:0.95 | area=   all | maxDets=100 ] = 0.242\n",
      " Average Precision  (AP) @[ IoU=0.50      | area=   all | maxDets=100 ] = 0.456\n",
      " Average Precision  (AP) @[ IoU=0.75      | area=   all | maxDets=100 ] = 0.236\n",
      " Average Precision  (AP) @[ IoU=0.50:0.95 | area= small | maxDets=100 ] = 0.068\n",
      " Average Precision  (AP) @[ IoU=0.50:0.95 | area=medium | maxDets=100 ] = 0.250\n",
      " Average Precision  (AP) @[ IoU=0.50:0.95 | area= large | maxDets=100 ] = 0.216\n",
      " Average Recall     (AR) @[ IoU=0.50:0.95 | area=   all | maxDets=  1 ] = 0.329\n",
      " Average Recall     (AR) @[ IoU=0.50:0.95 | area=   all | maxDets= 10 ] = 0.507\n",
      " Average Recall     (AR) @[ IoU=0.50:0.95 | area=   all | maxDets=100 ] = 0.557\n",
      " Average Recall     (AR) @[ IoU=0.50:0.95 | area= small | maxDets=100 ] = 0.356\n",
      " Average Recall     (AR) @[ IoU=0.50:0.95 | area=medium | maxDets=100 ] = 0.572\n",
      " Average Recall     (AR) @[ IoU=0.50:0.95 | area= large | maxDets=100 ] = 0.470\n",
      "Epoch: [16]  [   0/1549]  eta: 1:18:35  lr: 0.001000  loss: 0.8613 (0.8613)  classification: 0.4761 (0.4761)  bbox_regression: 0.3852 (0.3852)  time: 3.0445  data: 1.9609  max mem: 14539\n",
      "Epoch: [16]  [1000/1549]  eta: 0:09:49  lr: 0.001000  loss: 0.8328 (0.7852)  classification: 0.4587 (0.4334)  bbox_regression: 0.3378 (0.3518)  time: 1.0737  data: 0.0164  max mem: 14539\n",
      "Epoch: [16]  [1548/1549]  eta: 0:00:01  lr: 0.001000  loss: 0.7558 (0.7856)  classification: 0.4122 (0.4336)  bbox_regression: 0.3392 (0.3520)  time: 1.0620  data: 0.0161  max mem: 14539\n",
      "Epoch: [16] Total time: 0:27:43 (1.0739 s / it)\n",
      "Epoch: [17]  [   0/1549]  eta: 1:18:18  lr: 0.001000  loss: 0.9316 (0.9316)  classification: 0.5030 (0.5030)  bbox_regression: 0.4285 (0.4285)  time: 3.0334  data: 1.9286  max mem: 14539\n",
      "Epoch: [17]  [1000/1549]  eta: 0:09:49  lr: 0.001000  loss: 0.8045 (0.7756)  classification: 0.4628 (0.4253)  bbox_regression: 0.3533 (0.3502)  time: 1.0787  data: 0.0173  max mem: 14539\n",
      "Epoch: [17]  [1548/1549]  eta: 0:00:01  lr: 0.001000  loss: 0.7639 (0.7773)  classification: 0.4186 (0.4266)  bbox_regression: 0.3795 (0.3506)  time: 1.0584  data: 0.0152  max mem: 14539\n",
      "Epoch: [17] Total time: 0:27:42 (1.0733 s / it)\n",
      "Epoch: [18]  [   0/1549]  eta: 1:21:28  lr: 0.001000  loss: 0.7805 (0.7805)  classification: 0.3618 (0.3618)  bbox_regression: 0.4187 (0.4187)  time: 3.1558  data: 2.0656  max mem: 14539\n",
      "Epoch: [18]  [1000/1549]  eta: 0:09:49  lr: 0.001000  loss: 0.8001 (0.7731)  classification: 0.4357 (0.4222)  bbox_regression: 0.3333 (0.3509)  time: 1.0733  data: 0.0164  max mem: 14539\n",
      "Epoch: [18]  [1548/1549]  eta: 0:00:01  lr: 0.001000  loss: 0.6939 (0.7741)  classification: 0.4429 (0.4251)  bbox_regression: 0.2697 (0.3490)  time: 1.0685  data: 0.0202  max mem: 14539\n",
      "Epoch: [18] Total time: 0:27:42 (1.0734 s / it)\n",
      "Epoch: [19]  [   0/1549]  eta: 1:23:05  lr: 0.001000  loss: 0.6287 (0.6287)  classification: 0.3656 (0.3656)  bbox_regression: 0.2631 (0.2631)  time: 3.2184  data: 2.1364  max mem: 14539\n",
      "Epoch: [19]  [1000/1549]  eta: 0:09:49  lr: 0.001000  loss: 0.6721 (0.7687)  classification: 0.3898 (0.4186)  bbox_regression: 0.2896 (0.3500)  time: 1.0706  data: 0.0162  max mem: 14539\n",
      "Epoch: [19]  [1548/1549]  eta: 0:00:01  lr: 0.001000  loss: 0.7432 (0.7625)  classification: 0.4202 (0.4160)  bbox_regression: 0.3280 (0.3465)  time: 1.0509  data: 0.0157  max mem: 14539\n",
      "Epoch: [19] Total time: 0:27:42 (1.0732 s / it)\n",
      "Epoch: [20]  [   0/1549]  eta: 1:22:13  lr: 0.001000  loss: 0.7952 (0.7952)  classification: 0.4529 (0.4529)  bbox_regression: 0.3422 (0.3422)  time: 3.1848  data: 2.0815  max mem: 14539\n",
      "Epoch: [20]  [1000/1549]  eta: 0:09:48  lr: 0.001000  loss: 0.7400 (0.7522)  classification: 0.4256 (0.4107)  bbox_regression: 0.3113 (0.3415)  time: 1.0688  data: 0.0160  max mem: 14539\n",
      "Epoch: [20]  [1548/1549]  eta: 0:00:01  lr: 0.001000  loss: 0.7208 (0.7573)  classification: 0.3986 (0.4136)  bbox_regression: 0.3426 (0.3437)  time: 1.0555  data: 0.0161  max mem: 14539\n",
      "Epoch: [20] Total time: 0:27:41 (1.0727 s / it)\n",
      "creating index...\n",
      "index created!\n",
      "Test:  [  0/368]  eta: 0:13:46  model_time: 0.3095 (0.3095)  evaluator_time: 0.0202 (0.0202)  time: 2.2457  data: 1.9054  max mem: 14539\n",
      "Test:  [100/368]  eta: 0:01:36  model_time: 0.3018 (0.3022)  evaluator_time: 0.0157 (0.0156)  time: 0.3435  data: 0.0159  max mem: 14539\n",
      "Test:  [200/368]  eta: 0:00:59  model_time: 0.3026 (0.3025)  evaluator_time: 0.0148 (0.0168)  time: 0.3452  data: 0.0167  max mem: 14539\n",
      "Test:  [300/368]  eta: 0:00:23  model_time: 0.3032 (0.3029)  evaluator_time: 0.0170 (0.0168)  time: 0.3532  data: 0.0162  max mem: 14539\n",
      "Test:  [367/368]  eta: 0:00:00  model_time: 0.3032 (0.3027)  evaluator_time: 0.0134 (0.0165)  time: 0.3353  data: 0.0148  max mem: 14539\n",
      "Test: Total time: 0:02:08 (0.3502 s / it)\n",
      "Averaged stats: model_time: 0.3032 (0.3027)  evaluator_time: 0.0134 (0.0165)\n",
      "Accumulating evaluation results...\n",
      "DONE (t=1.25s).\n",
      "IoU metric: bbox\n",
      " Average Precision  (AP) @[ IoU=0.50:0.95 | area=   all | maxDets=100 ] = 0.265\n",
      " Average Precision  (AP) @[ IoU=0.50      | area=   all | maxDets=100 ] = 0.513\n",
      " Average Precision  (AP) @[ IoU=0.75      | area=   all | maxDets=100 ] = 0.261\n",
      " Average Precision  (AP) @[ IoU=0.50:0.95 | area= small | maxDets=100 ] = 0.094\n",
      " Average Precision  (AP) @[ IoU=0.50:0.95 | area=medium | maxDets=100 ] = 0.273\n",
      " Average Precision  (AP) @[ IoU=0.50:0.95 | area= large | maxDets=100 ] = 0.237\n",
      " Average Recall     (AR) @[ IoU=0.50:0.95 | area=   all | maxDets=  1 ] = 0.350\n",
      " Average Recall     (AR) @[ IoU=0.50:0.95 | area=   all | maxDets= 10 ] = 0.524\n",
      " Average Recall     (AR) @[ IoU=0.50:0.95 | area=   all | maxDets=100 ] = 0.567\n",
      " Average Recall     (AR) @[ IoU=0.50:0.95 | area= small | maxDets=100 ] = 0.287\n",
      " Average Recall     (AR) @[ IoU=0.50:0.95 | area=medium | maxDets=100 ] = 0.582\n",
      " Average Recall     (AR) @[ IoU=0.50:0.95 | area= large | maxDets=100 ] = 0.481\n",
      "Epoch: [21]  [   0/1549]  eta: 1:15:24  lr: 0.001000  loss: 0.7897 (0.7897)  classification: 0.4670 (0.4670)  bbox_regression: 0.3227 (0.3227)  time: 2.9208  data: 1.8451  max mem: 14539\n",
      "Epoch: [21]  [1000/1549]  eta: 0:09:49  lr: 0.001000  loss: 0.7093 (0.7554)  classification: 0.3620 (0.4117)  bbox_regression: 0.3298 (0.3437)  time: 1.0707  data: 0.0172  max mem: 14539\n",
      "Epoch: [21]  [1548/1549]  eta: 0:00:01  lr: 0.001000  loss: 0.7165 (0.7531)  classification: 0.3985 (0.4114)  bbox_regression: 0.3337 (0.3417)  time: 1.0496  data: 0.0161  max mem: 14539\n",
      "Epoch: [21] Total time: 0:27:43 (1.0739 s / it)\n",
      "Epoch: [22]  [   0/1549]  eta: 1:18:32  lr: 0.001000  loss: 0.7235 (0.7235)  classification: 0.4344 (0.4344)  bbox_regression: 0.2891 (0.2891)  time: 3.0421  data: 1.9613  max mem: 14539\n",
      "Epoch: [22]  [1000/1549]  eta: 0:09:49  lr: 0.001000  loss: 0.7390 (0.7560)  classification: 0.4119 (0.4152)  bbox_regression: 0.3510 (0.3407)  time: 1.0747  data: 0.0175  max mem: 14539\n",
      "Epoch: [22]  [1548/1549]  eta: 0:00:01  lr: 0.001000  loss: 0.6704 (0.7482)  classification: 0.3734 (0.4086)  bbox_regression: 0.3028 (0.3396)  time: 1.0561  data: 0.0163  max mem: 14539\n",
      "Epoch: [22] Total time: 0:27:43 (1.0739 s / it)\n",
      "Epoch: [23]  [   0/1549]  eta: 1:22:25  lr: 0.001000  loss: 0.7278 (0.7278)  classification: 0.4513 (0.4513)  bbox_regression: 0.2765 (0.2765)  time: 3.1926  data: 2.1266  max mem: 14539\n"
     ]
    }
   ],
   "source": [
    "from engine import train_one_epoch\n",
    "\n",
    "start_time = time.time()\n",
    "for epoch in range(args.epochs):\n",
    "    train_one_epoch(model, optimizer, train_loader, device, epoch, args.print_freq)\n",
    "    lr_scheduler.step()\n",
    "    \n",
    "    if epoch > 60 and epoch % 5 == 0 :\n",
    "        if args.output_dir:\n",
    "            checkpoint = {\n",
    "                'model': model.state_dict(),\n",
    "                'optimizer': optimizer.state_dict(),\n",
    "                'lr_scheduler': lr_scheduler.state_dict(),\n",
    "                'args': args,\n",
    "                'epoch': epoch\n",
    "            }\n",
    "            utils.save_on_master(\n",
    "                checkpoint,\n",
    "                os.path.join(args.output_dir, 'model_{}.pth'.format(epoch)))\n",
    "            utils.save_on_master(\n",
    "                checkpoint,\n",
    "                os.path.join(args.output_dir, 'checkpoint.pth'))\n",
    "\n",
    "    if epoch > 5 and epoch % 5 == 0 :\n",
    "        # evaluate after every epoch\n",
    "        evaluate(model, test_loader, device=device)    \n",
    "print('total time is {}'.format(time.time() - start_time))    "
   ]
  },
  {
   "cell_type": "code",
   "execution_count": null,
   "id": "4f20ad5b-dbc4-4b7c-880a-800df4e96e3c",
   "metadata": {},
   "outputs": [],
   "source": [
    "model"
   ]
  },
  {
   "cell_type": "code",
   "execution_count": null,
   "id": "29ae7c63-dee7-46a1-916d-a8e13e6cf20c",
   "metadata": {},
   "outputs": [],
   "source": []
  },
  {
   "cell_type": "code",
   "execution_count": null,
   "id": "70b51ded-faf6-4950-9f9a-2de14fddf56e",
   "metadata": {},
   "outputs": [],
   "source": []
  }
 ],
 "metadata": {
  "kernelspec": {
   "display_name": "pytorch",
   "language": "python",
   "name": "pytorch"
  },
  "language_info": {
   "codemirror_mode": {
    "name": "ipython",
    "version": 3
   },
   "file_extension": ".py",
   "mimetype": "text/x-python",
   "name": "python",
   "nbconvert_exporter": "python",
   "pygments_lexer": "ipython3",
   "version": "3.8.11"
  }
 },
 "nbformat": 4,
 "nbformat_minor": 5
}
