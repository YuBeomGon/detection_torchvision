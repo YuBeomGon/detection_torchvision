{
 "cells": [
  {
   "cell_type": "code",
   "execution_count": 1,
   "id": "f2a421c6-0b9a-4e02-a51a-1af717581a72",
   "metadata": {},
   "outputs": [],
   "source": [
    "import torch\n",
    "import torch.nn as nn\n",
    "import torchvision\n",
    "\n",
    "import numpy as np\n",
    "import matplotlib.pyplot as plt\n",
    "import pandas as pd\n",
    "import time\n",
    "import os\n",
    "\n",
    "from torch.utils.data import Dataset, DataLoader\n",
    "# from torch.utils.data.sampler import Sampler\n",
    "import torch.optim as optim\n",
    "import sys\n",
    "sys.path.append('../')\n",
    "sys.path.append('../../')\n",
    "\n",
    "from dataset import CocoDetection, train_transforms, val_transforms, test_transforms\n",
    "from visualize import visualize\n",
    "# from rcnn_model import fasterrcnn_resnet201_fpn, FastRCNNPredictor\n",
    "from engine import evaluate\n",
    "import utils"
   ]
  },
  {
   "cell_type": "code",
   "execution_count": 2,
   "id": "92f9d2e3-65f8-4f17-817e-5b2ee9c263b3",
   "metadata": {},
   "outputs": [
    {
     "name": "stderr",
     "output_type": "stream",
     "text": [
      "/home/beomgon/anaconda3/envs/pytorch/lib/python3.8/site-packages/torch/functional.py:445: UserWarning: torch.meshgrid: in an upcoming release, it will be required to pass the indexing argument. (Triggered internally at  /opt/conda/conda-bld/pytorch_1634272128894/work/aten/src/ATen/native/TensorShape.cpp:2157.)\n",
      "  return _VF.meshgrid(tensors, **kwargs)  # type: ignore[attr-defined]\n"
     ]
    }
   ],
   "source": [
    "from models.swin_transformer_v2 import *\n",
    "backbone = SwinTransformer()\n",
    "# backbone"
   ]
  },
  {
   "cell_type": "code",
   "execution_count": 3,
   "id": "5523b737-86ab-4f0e-b3ac-d4ec24bd2791",
   "metadata": {},
   "outputs": [],
   "source": [
    "PATH = './test.pth'\n",
    "torch.save(backbone.state_dict(), PATH)"
   ]
  },
  {
   "cell_type": "code",
   "execution_count": 4,
   "id": "ec59dff0-542a-45c8-842d-3c96b88927f4",
   "metadata": {},
   "outputs": [
    {
     "data": {
      "text/plain": [
       "<All keys matched successfully>"
      ]
     },
     "execution_count": 4,
     "metadata": {},
     "output_type": "execute_result"
    }
   ],
   "source": [
    "backbone.load_state_dict(torch.load(PATH))\n"
   ]
  },
  {
   "cell_type": "code",
   "execution_count": 5,
   "id": "aca97f15-195d-4325-941c-162d36f5b644",
   "metadata": {},
   "outputs": [
    {
     "name": "stdout",
     "output_type": "stream",
     "text": [
      "odict_keys(['2', '3', '4'])\n"
     ]
    }
   ],
   "source": [
    "# layers_to_train = [\"layer4\", \"layer3\", \"layer2\", \"layer1\", \"patch_embed\"][:3]\n",
    "# returned_layers = [1, 2, 3, 4]\n",
    "# return_layers = {f\"layer{k}\": str(v) for v, k in enumerate(returned_layers)}\n",
    "# body = IntermediateLayerGetter(backbone, return_layers=return_layers)\n",
    "# x = torch.randn(2,3,896,896)\n",
    "x = torch.randn(2,3,1024,1024)\n",
    "out = backbone(x)\n",
    "print(out.keys())\n"
   ]
  },
  {
   "cell_type": "code",
   "execution_count": 6,
   "id": "6d8fc462-e3df-47e5-adb5-825c1944863c",
   "metadata": {},
   "outputs": [
    {
     "name": "stdout",
     "output_type": "stream",
     "text": [
      "torch.Size([2, 192, 128, 128])\n",
      "torch.Size([2, 384, 64, 64])\n",
      "torch.Size([2, 768, 32, 32])\n"
     ]
    }
   ],
   "source": [
    "# print(out['0'].shape)\n",
    "# print(out['1'].shape)\n",
    "print(out['2'].shape)\n",
    "print(out['3'].shape)\n",
    "print(out['4'].shape)"
   ]
  },
  {
   "cell_type": "code",
   "execution_count": 7,
   "id": "3d1fc42a-0a5a-4d86-8bcf-99177c2d54d7",
   "metadata": {},
   "outputs": [
    {
     "name": "stdout",
     "output_type": "stream",
     "text": [
      "trainable_backbone_layers 6\n"
     ]
    }
   ],
   "source": [
    "from models.detection.retinanet import retinanet_swin_t_fpn\n",
    "model = retinanet_swin_t_fpn()"
   ]
  },
  {
   "cell_type": "code",
   "execution_count": 8,
   "id": "462fa236-3a8c-4003-8195-9fbbbda7599b",
   "metadata": {},
   "outputs": [],
   "source": [
    "x = torch.randn(2,3,1024,1024)\n",
    "model.eval()\n",
    "out = model(x)\n"
   ]
  },
  {
   "cell_type": "code",
   "execution_count": 9,
   "id": "265b4a25-5037-422e-8639-2337ddaeff6a",
   "metadata": {},
   "outputs": [
    {
     "data": {
      "text/plain": [
       "[{'boxes': tensor([], size=(0, 4), grad_fn=<StackBackward0>),\n",
       "  'scores': tensor([], grad_fn=<IndexBackward0>),\n",
       "  'labels': tensor([], dtype=torch.int64)},\n",
       " {'boxes': tensor([], size=(0, 4), grad_fn=<StackBackward0>),\n",
       "  'scores': tensor([], grad_fn=<IndexBackward0>),\n",
       "  'labels': tensor([], dtype=torch.int64)}]"
      ]
     },
     "execution_count": 9,
     "metadata": {},
     "output_type": "execute_result"
    }
   ],
   "source": [
    "out"
   ]
  },
  {
   "cell_type": "code",
   "execution_count": 35,
   "id": "217fa621-ce4f-4de1-88c5-ef943f18547d",
   "metadata": {},
   "outputs": [],
   "source": [
    "from models.detection.backbone_utils import *\n",
    "from ops.feature_pyramid_network import FeaturePyramidNetwork, LastLevelMaxPool, LastLevelP6P7\n",
    "extra_blocks = LastLevelMaxPool()\n",
    "in_channels_list = [192, 384, 768] \n",
    "out_channels = 256\n",
    "backbone =AttnBackboneWithFPN(backbone, in_channels_list, out_channels, extra_blocks=extra_blocks)"
   ]
  },
  {
   "cell_type": "code",
   "execution_count": 11,
   "id": "f4a3ea4c-2c0b-4f03-93d4-1180dbbcfd53",
   "metadata": {},
   "outputs": [],
   "source": [
    "x = torch.randn(2,3,1024,1024)\n",
    "out = backbone(x)"
   ]
  },
  {
   "cell_type": "code",
   "execution_count": 12,
   "id": "fc708f91-c0da-4ca9-bd15-1dc71f826f5a",
   "metadata": {},
   "outputs": [
    {
     "data": {
      "text/plain": [
       "FeaturePyramidNetwork(\n",
       "  (inner_blocks): ModuleList(\n",
       "    (0): Conv2d(192, 256, kernel_size=(1, 1), stride=(1, 1))\n",
       "    (1): Conv2d(384, 256, kernel_size=(1, 1), stride=(1, 1))\n",
       "    (2): Conv2d(768, 256, kernel_size=(1, 1), stride=(1, 1))\n",
       "  )\n",
       "  (layer_blocks): ModuleList(\n",
       "    (0): Conv2d(256, 256, kernel_size=(3, 3), stride=(1, 1), padding=(1, 1))\n",
       "    (1): Conv2d(256, 256, kernel_size=(3, 3), stride=(1, 1), padding=(1, 1))\n",
       "    (2): Conv2d(256, 256, kernel_size=(3, 3), stride=(1, 1), padding=(1, 1))\n",
       "  )\n",
       "  (extra_blocks): LastLevelMaxPool()\n",
       ")"
      ]
     },
     "execution_count": 12,
     "metadata": {},
     "output_type": "execute_result"
    }
   ],
   "source": [
    "backbone.fpn"
   ]
  },
  {
   "cell_type": "code",
   "execution_count": 14,
   "id": "dcc5ef8f-75be-49b9-bd2f-67746992e28b",
   "metadata": {},
   "outputs": [
    {
     "name": "stdout",
     "output_type": "stream",
     "text": [
      "odict_keys(['2', '3', '4'])\n"
     ]
    }
   ],
   "source": [
    "from models.swin_transformer import *\n",
    "backbone = SwinTransformer()\n",
    "x = torch.randn(2,3,1024,1024)\n",
    "out = backbone(x)\n",
    "print(out.keys())"
   ]
  },
  {
   "cell_type": "code",
   "execution_count": 37,
   "id": "27c12e2a-3afe-46c1-83e6-a466ca430344",
   "metadata": {},
   "outputs": [],
   "source": [
    "from models.detection.backbone_utils import *\n",
    "backbone = swin_fpn_backbone('swin_t', False, returned_layers=[2, 3, 4],\n",
    "                               extra_blocks=LastLevelP6P7(256,256), trainable_layers=4)"
   ]
  },
  {
   "cell_type": "code",
   "execution_count": 38,
   "id": "3c057831-6795-4d5b-83d8-cf96a38f5773",
   "metadata": {},
   "outputs": [
    {
     "data": {
      "text/plain": [
       "odict_keys(['2', '3', '4', 'p6', 'p7'])"
      ]
     },
     "execution_count": 38,
     "metadata": {},
     "output_type": "execute_result"
    }
   ],
   "source": [
    "x = torch.randn(2,3,224,224)\n",
    "out = backbone(x)\n",
    "out.keys()"
   ]
  },
  {
   "cell_type": "code",
   "execution_count": 41,
   "id": "a9616728-6e6c-4fba-8ae5-2da62f85e3c9",
   "metadata": {},
   "outputs": [
    {
     "name": "stdout",
     "output_type": "stream",
     "text": [
      "torch.Size([2, 256, 28, 28])\n",
      "torch.Size([2, 256, 14, 14])\n",
      "torch.Size([2, 256, 7, 7])\n",
      "torch.Size([2, 256, 4, 4])\n",
      "torch.Size([2, 256, 2, 2])\n"
     ]
    }
   ],
   "source": [
    "print(out['2'].shape)\n",
    "print(out['3'].shape)\n",
    "print(out['4'].shape)\n",
    "print(out['p6'].shape)\n",
    "print(out['p7'].shape)"
   ]
  },
  {
   "cell_type": "code",
   "execution_count": null,
   "id": "7d129c67-d8b3-4ebc-ac5c-db4ca69803c1",
   "metadata": {},
   "outputs": [],
   "source": []
  }
 ],
 "metadata": {
  "kernelspec": {
   "display_name": "pytorch",
   "language": "python",
   "name": "pytorch"
  },
  "language_info": {
   "codemirror_mode": {
    "name": "ipython",
    "version": 3
   },
   "file_extension": ".py",
   "mimetype": "text/x-python",
   "name": "python",
   "nbconvert_exporter": "python",
   "pygments_lexer": "ipython3",
   "version": "3.8.11"
  }
 },
 "nbformat": 4,
 "nbformat_minor": 5
}
