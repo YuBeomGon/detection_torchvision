{
 "cells": [
  {
   "cell_type": "code",
   "execution_count": 1,
   "id": "fitting-knitting",
   "metadata": {},
   "outputs": [],
   "source": [
    "import torch\n",
    "import torch.nn as nn\n",
    "import torchvision\n",
    "\n",
    "import numpy as np\n",
    "import matplotlib.pyplot as plt\n",
    "import pandas as pd\n",
    "import time\n",
    "import os\n",
    "\n",
    "from torch.utils.data import Dataset, DataLoader\n",
    "# from torch.utils.data.sampler import Sampler\n",
    "import torch.optim as optim\n",
    "import sys\n",
    "sys.path.append('../')\n",
    "sys.path.append('../../')\n",
    "\n",
    "from dataset import CocoDetection, train_transforms, val_transforms, test_transforms\n",
    "from visualize import visualize\n",
    "# from rcnn_model import fasterrcnn_resnet201_fpn, FastRCNNPredictor\n",
    "from engine import evaluate\n",
    "import utils\n",
    "from models.swin import *"
   ]
  },
  {
   "cell_type": "code",
   "execution_count": 2,
   "id": "c655d0f9-b067-43fd-b2ae-cc9953a91727",
   "metadata": {},
   "outputs": [],
   "source": [
    "from models.detection.backbone_utils import swin_fpn_backbone, _validate_trainable_layers\n",
    "from ops.feature_pyramid_network import LastLevelP6P7, LastLevelMaxPool\n",
    "from models.detection.retinanet import RetinaNet\n",
    "from torch.hub import load_state_dict_from_url\n",
    "from models.detection.anchor_utils import AnchorGenerator\n",
    "# from models.detection.backbone_utils import mobilenet_backbone"
   ]
  },
  {
   "cell_type": "code",
   "execution_count": 3,
   "id": "d7acde29-6e29-450f-95ca-04be2b73cb3e",
   "metadata": {},
   "outputs": [],
   "source": [
    "def retinanet_swin_t_fpn(pretrained=False, progress=True,\n",
    "                           num_classes=91, pretrained_backbone=False, trainable_backbone_layers=None, **kwargs):\n",
    "    trainable_backbone_layers = _validate_trainable_layers(\n",
    "        pretrained or pretrained_backbone, trainable_backbone_layers, 5, 3)\n",
    "\n",
    "    if pretrained:\n",
    "        # no need to download the backbone if pretrained is set\n",
    "        pretrained_backbone = False\n",
    "        \n",
    "    anchor_sizes = ((32, 64, 128, 256, 512), ) * 5\n",
    "    aspect_ratios = ((0.5, 0.75, 1.0, 1.5, 2.0),) * len(anchor_sizes)\n",
    "    rpn_anchor_generator=AnchorGenerator(anchor_sizes, aspect_ratios)\n",
    "    \n",
    "    # skip P2 because it generates too many anchors (according to their paper)\n",
    "    backbone = swin_fpn_backbone('swin_t', pretrained_backbone, returned_layers=[2, 3, 4],\n",
    "                                   extra_blocks=LastLevelP6P7(256,256), trainable_layers=trainable_backbone_layers)\n",
    "    \n",
    "    model = RetinaNet(backbone, num_classes, anchor_generator=rpn_anchor_generator, **kwargs)\n",
    "    if pretrained:\n",
    "        state_dict = load_state_dict_from_url(model_urls['retinanet_resnet50_fpn_coco'],\n",
    "                                              progress=progress)\n",
    "        model.load_state_dict(state_dict)\n",
    "        overwrite_eps(model, 0.0)\n",
    "    return model"
   ]
  },
  {
   "cell_type": "code",
   "execution_count": 4,
   "id": "c3db16c9-0a5a-4610-a563-d5bb08b05fe0",
   "metadata": {},
   "outputs": [
    {
     "name": "stderr",
     "output_type": "stream",
     "text": [
      "/home/beomgon/anaconda3/envs/pytorch/lib/python3.8/site-packages/torch/functional.py:445: UserWarning: torch.meshgrid: in an upcoming release, it will be required to pass the indexing argument. (Triggered internally at  /opt/conda/conda-bld/pytorch_1634272128894/work/aten/src/ATen/native/TensorShape.cpp:2157.)\n",
      "  return _VF.meshgrid(tensors, **kwargs)  # type: ignore[attr-defined]\n"
     ]
    },
    {
     "name": "stdout",
     "output_type": "stream",
     "text": [
      "return_layers {'layer2': '0', 'layer3': '1', 'layer4': '2'}\n",
      "model is loaded to gpu\n"
     ]
    }
   ],
   "source": [
    "NUM_CLASS = 91\n",
    "IMG_SIZE = 448*2\n",
    "model = retinanet_swin_t_fpn(pretrained=False, min_size=IMG_SIZE, max_size=IMG_SIZE, num_classes=NUM_CLASS)\n",
    "\n",
    "device = torch.device('cuda')\n",
    "model.to(device)\n",
    "print('model is loaded to gpu')"
   ]
  },
  {
   "cell_type": "code",
   "execution_count": 5,
   "id": "ca06678d-92e5-4e42-aadd-dae62778c9fc",
   "metadata": {},
   "outputs": [],
   "source": [
    "# model"
   ]
  },
  {
   "cell_type": "code",
   "execution_count": 6,
   "id": "8e85dcca-de7c-4931-9573-b31c5683ab79",
   "metadata": {},
   "outputs": [],
   "source": [
    "import easydict \n",
    "args = easydict.EasyDict({ \"batch_size\": 4, \n",
    "                          \"epochs\": 90, \n",
    "                          \"data\": 0, \n",
    "                          'lr':0.002,\n",
    "                         'momentum':0.9,\n",
    "                         'weight_decay':1e-4,\n",
    "                         'start_epoch':0,\n",
    "                         'gpu':0,\n",
    "                          'workers':16,\n",
    "                         'print_freq':1000,\n",
    "                         'output_dir':'../trained_models/retinanet_swin_t_fpn/'})"
   ]
  },
  {
   "cell_type": "code",
   "execution_count": 7,
   "id": "6d7af831-87c8-4190-bd16-e7168234bf48",
   "metadata": {},
   "outputs": [],
   "source": [
    "from pathlib import Path\n",
    "path = Path(args.output_dir.split('checkpoint')[0])\n",
    "path.mkdir(parents=True, exist_ok=True)  "
   ]
  },
  {
   "cell_type": "code",
   "execution_count": 8,
   "id": "75a03170-914b-4b1d-bcc7-3f9dfc3b39a3",
   "metadata": {},
   "outputs": [
    {
     "name": "stdout",
     "output_type": "stream",
     "text": [
      "3\n",
      "cuda:0\n"
     ]
    }
   ],
   "source": [
    "ngpus_per_node = torch.cuda.device_count()\n",
    "print(ngpus_per_node)\n",
    "GPU_NUM = args.gpu # 원하는 GPU 번호 입력\n",
    "device = torch.device(f'cuda:{GPU_NUM}' if torch.cuda.is_available() else 'cpu')\n",
    "torch.cuda.set_device(device)\n",
    "print(device)"
   ]
  },
  {
   "cell_type": "code",
   "execution_count": 9,
   "id": "6cbb054c-9f18-420b-9f99-e81ca82698e1",
   "metadata": {},
   "outputs": [
    {
     "name": "stdout",
     "output_type": "stream",
     "text": [
      "loading annotations into memory...\n",
      "Done (t=0.03s)\n",
      "creating index...\n",
      "index created!\n",
      "loading annotations into memory...\n",
      "Done (t=0.01s)\n",
      "creating index...\n",
      "index created!\n"
     ]
    }
   ],
   "source": [
    "from dataset import CocoDetection, train_transforms, val_transforms, test_transforms\n",
    "train_dataset = CocoDetection(root='/home/beomgon/Dataset/scl/', annFile='../../data/train.json', \n",
    "                              transforms=train_transforms)\n",
    "test_dataset = CocoDetection(root='/home/beomgon/Dataset/scl/', annFile='../../data/test.json', \n",
    "                              transforms=val_transforms)"
   ]
  },
  {
   "cell_type": "code",
   "execution_count": 10,
   "id": "6828ca37-77b2-49b2-a254-8228ebfdf935",
   "metadata": {},
   "outputs": [
    {
     "data": {
      "text/plain": [
       "{'boxes': tensor([[667.1875, 353.0625, 743.3125, 423.5000]]),\n",
       " 'category_id': tensor([1]),\n",
       " 'labels': tensor([1]),\n",
       " 'image_id': tensor([1]),\n",
       " 'area': tensor([5362.0547]),\n",
       " 'iscrowd': tensor([0])}"
      ]
     },
     "execution_count": 10,
     "metadata": {},
     "output_type": "execute_result"
    }
   ],
   "source": [
    "image, target = next(iter(train_dataset))\n",
    "target\n",
    "                    "
   ]
  },
  {
   "cell_type": "code",
   "execution_count": 11,
   "id": "47c21288-37ac-405b-91b0-e5b93073d7f8",
   "metadata": {},
   "outputs": [],
   "source": [
    "train_sampler = torch.utils.data.RandomSampler(train_dataset)\n",
    "test_sampler = torch.utils.data.SequentialSampler(test_dataset)\n",
    "\n",
    "train_loader = DataLoader(\n",
    "    train_dataset, batch_size=args.batch_size,\n",
    "    sampler=train_sampler, num_workers=args.workers,\n",
    "    collate_fn=utils.collate_fn)\n",
    "\n",
    "test_loader = DataLoader(\n",
    "    test_dataset, batch_size=args.batch_size,\n",
    "    sampler=test_sampler, num_workers=args.workers,\n",
    "    collate_fn=utils.collate_fn)"
   ]
  },
  {
   "cell_type": "code",
   "execution_count": 12,
   "id": "e02e2082-4e0a-49c3-8fea-0c7c8a38ec8f",
   "metadata": {},
   "outputs": [],
   "source": [
    "params = [p for p in model.parameters() if p.requires_grad]\n",
    "# optimizer = torch.optim.Adam(params, lr=args.lr, weight_decay=args.weight_decay)\n",
    "optimizer = torch.optim.SGD(\n",
    "       params, lr=args.lr, momentum=args.momentum, weight_decay=args.weight_decay)\n",
    "lr_scheduler = torch.optim.lr_scheduler.MultiStepLR(optimizer, milestones=[15, 30, 45, 60, 75], \n",
    "                                                    gamma=0.5)"
   ]
  },
  {
   "cell_type": "code",
   "execution_count": null,
   "id": "29f46c9f-b749-4c50-9f9e-a3d589b472f0",
   "metadata": {},
   "outputs": [
    {
     "name": "stdout",
     "output_type": "stream",
     "text": [
      "Epoch: [0]  [   0/1549]  eta: 1:28:01  lr: 0.000004  loss: 2.3234 (2.3234)  classification: 1.6080 (1.6080)  bbox_regression: 0.7155 (0.7155)  time: 3.4096  data: 1.9179  max mem: 14001\n",
      "Epoch: [0]  [1000/1549]  eta: 0:09:39  lr: 0.002000  loss: 1.8649 (1.9831)  classification: 1.2687 (1.3652)  bbox_regression: 0.5976 (0.6179)  time: 1.0508  data: 0.0166  max mem: 14337\n",
      "Epoch: [0]  [1548/1549]  eta: 0:00:01  lr: 0.002000  loss: 1.5451 (1.9424)  classification: 0.9872 (1.3316)  bbox_regression: 0.5677 (0.6107)  time: 1.0212  data: 0.0160  max mem: 14345\n",
      "Epoch: [0] Total time: 0:27:10 (1.0524 s / it)\n",
      "Epoch: [1]  [   0/1549]  eta: 1:21:58  lr: 0.002000  loss: 1.7217 (1.7217)  classification: 1.0586 (1.0586)  bbox_regression: 0.6631 (0.6631)  time: 3.1751  data: 2.0504  max mem: 14345\n",
      "Epoch: [1]  [1000/1549]  eta: 0:09:38  lr: 0.002000  loss: 1.4850 (1.6467)  classification: 0.8593 (1.0538)  bbox_regression: 0.5874 (0.5929)  time: 1.0491  data: 0.0159  max mem: 14345\n",
      "Epoch: [1]  [1548/1549]  eta: 0:00:01  lr: 0.002000  loss: 1.6511 (1.6199)  classification: 1.1332 (1.0410)  bbox_regression: 0.5346 (0.5790)  time: 1.0317  data: 0.0157  max mem: 14345\n",
      "Epoch: [1] Total time: 0:27:09 (1.0518 s / it)\n",
      "Epoch: [2]  [   0/1549]  eta: 1:21:42  lr: 0.002000  loss: 1.4112 (1.4112)  classification: 0.8774 (0.8774)  bbox_regression: 0.5338 (0.5338)  time: 3.1649  data: 2.0980  max mem: 14345\n",
      "Epoch: [2]  [1000/1549]  eta: 0:09:38  lr: 0.002000  loss: 1.1707 (1.3935)  classification: 0.6873 (0.8742)  bbox_regression: 0.4783 (0.5193)  time: 1.0500  data: 0.0164  max mem: 14345\n",
      "Epoch: [2]  [1548/1549]  eta: 0:00:01  lr: 0.002000  loss: 1.2171 (1.3659)  classification: 0.7154 (0.8543)  bbox_regression: 0.4732 (0.5116)  time: 1.0297  data: 0.0162  max mem: 14345\n",
      "Epoch: [2] Total time: 0:27:11 (1.0531 s / it)\n",
      "Epoch: [3]  [   0/1549]  eta: 1:19:28  lr: 0.002000  loss: 1.0667 (1.0667)  classification: 0.6559 (0.6559)  bbox_regression: 0.4107 (0.4107)  time: 3.0785  data: 1.9587  max mem: 14345\n",
      "Epoch: [3]  [1000/1549]  eta: 0:09:37  lr: 0.002000  loss: 1.2024 (1.3048)  classification: 0.7650 (0.8180)  bbox_regression: 0.4483 (0.4868)  time: 1.0478  data: 0.0154  max mem: 14345\n",
      "Epoch: [3]  [1548/1549]  eta: 0:00:01  lr: 0.002000  loss: 1.0534 (1.2680)  classification: 0.6750 (0.7857)  bbox_regression: 0.3748 (0.4823)  time: 1.0299  data: 0.0167  max mem: 14345\n",
      "Epoch: [3] Total time: 0:27:08 (1.0514 s / it)\n",
      "Epoch: [4]  [   0/1549]  eta: 1:19:00  lr: 0.002000  loss: 1.5308 (1.5308)  classification: 1.0923 (1.0923)  bbox_regression: 0.4385 (0.4385)  time: 3.0604  data: 1.9451  max mem: 14345\n",
      "Epoch: [4]  [1000/1549]  eta: 0:09:38  lr: 0.002000  loss: 0.9881 (1.1876)  classification: 0.6228 (0.7279)  bbox_regression: 0.3959 (0.4597)  time: 1.0457  data: 0.0164  max mem: 14345\n",
      "Epoch: [4]  [1548/1549]  eta: 0:00:01  lr: 0.002000  loss: 1.2652 (1.1668)  classification: 0.6027 (0.7125)  bbox_regression: 0.4320 (0.4543)  time: 1.0312  data: 0.0165  max mem: 14345\n",
      "Epoch: [4] Total time: 0:27:13 (1.0543 s / it)\n",
      "Epoch: [5]  [   0/1549]  eta: 1:19:31  lr: 0.002000  loss: 1.6005 (1.6005)  classification: 0.9762 (0.9762)  bbox_regression: 0.6243 (0.6243)  time: 3.0801  data: 1.9761  max mem: 14345\n",
      "Epoch: [5]  [1000/1549]  eta: 0:09:39  lr: 0.002000  loss: 1.2718 (1.3027)  classification: 0.7788 (0.8374)  bbox_regression: 0.4686 (0.4652)  time: 1.0516  data: 0.0157  max mem: 14345\n",
      "Epoch: [5]  [1548/1549]  eta: 0:00:01  lr: 0.002000  loss: 1.0232 (1.2468)  classification: 0.6066 (0.7927)  bbox_regression: 0.4257 (0.4541)  time: 1.0292  data: 0.0144  max mem: 14345\n",
      "Epoch: [5] Total time: 0:27:11 (1.0530 s / it)\n",
      "Epoch: [6]  [   0/1549]  eta: 1:25:37  lr: 0.002000  loss: 0.8322 (0.8322)  classification: 0.5324 (0.5324)  bbox_regression: 0.2998 (0.2998)  time: 3.3168  data: 2.1846  max mem: 14345\n",
      "Epoch: [6]  [1000/1549]  eta: 0:09:36  lr: 0.002000  loss: 1.3094 (1.2186)  classification: 0.8634 (0.7718)  bbox_regression: 0.4347 (0.4468)  time: 1.0501  data: 0.0160  max mem: 14345\n",
      "Epoch: [6]  [1548/1549]  eta: 0:00:01  lr: 0.002000  loss: 1.0656 (1.1851)  classification: 0.6036 (0.7444)  bbox_regression: 0.4570 (0.4408)  time: 1.0302  data: 0.0157  max mem: 14345\n",
      "Epoch: [6] Total time: 0:27:08 (1.0514 s / it)\n",
      "Epoch: [7]  [   0/1549]  eta: 1:17:42  lr: 0.002000  loss: 0.8843 (0.8843)  classification: 0.4495 (0.4495)  bbox_regression: 0.4348 (0.4348)  time: 3.0101  data: 1.9201  max mem: 14345\n",
      "Epoch: [7]  [1000/1549]  eta: 0:09:37  lr: 0.002000  loss: 0.8741 (1.1070)  classification: 0.4938 (0.6817)  bbox_regression: 0.3887 (0.4253)  time: 1.0469  data: 0.0152  max mem: 14345\n",
      "Epoch: [7]  [1548/1549]  eta: 0:00:01  lr: 0.002000  loss: 0.9982 (1.0711)  classification: 0.6122 (0.6518)  bbox_regression: 0.3663 (0.4194)  time: 1.0359  data: 0.0172  max mem: 14345\n",
      "Epoch: [7] Total time: 0:27:09 (1.0520 s / it)\n",
      "Epoch: [8]  [   0/1549]  eta: 1:25:18  lr: 0.002000  loss: 0.9878 (0.9878)  classification: 0.7021 (0.7021)  bbox_regression: 0.2857 (0.2857)  time: 3.3046  data: 2.2040  max mem: 14345\n",
      "Epoch: [8]  [1000/1549]  eta: 0:09:39  lr: 0.002000  loss: 0.9018 (0.9948)  classification: 0.4900 (0.5860)  bbox_regression: 0.3952 (0.4088)  time: 1.0606  data: 0.0156  max mem: 14345\n",
      "Epoch: [8]  [1548/1549]  eta: 0:00:01  lr: 0.002000  loss: 0.8516 (0.9903)  classification: 0.4967 (0.5814)  bbox_regression: 0.3585 (0.4089)  time: 1.0268  data: 0.0151  max mem: 14345\n",
      "Epoch: [8] Total time: 0:27:13 (1.0546 s / it)\n",
      "Epoch: [9]  [   0/1549]  eta: 1:24:24  lr: 0.002000  loss: 1.0113 (1.0113)  classification: 0.6404 (0.6404)  bbox_regression: 0.3709 (0.3709)  time: 3.2697  data: 2.1069  max mem: 14345\n"
     ]
    }
   ],
   "source": [
    "from engine import train_one_epoch\n",
    "\n",
    "start_time = time.time()\n",
    "for epoch in range(args.epochs):\n",
    "    train_one_epoch(model, optimizer, train_loader, device, epoch, args.print_freq)\n",
    "    lr_scheduler.step()\n",
    "    \n",
    "    if epoch > 60 and epoch % 5 == 0 :\n",
    "        if args.output_dir:\n",
    "            checkpoint = {\n",
    "                'model': model.state_dict(),\n",
    "                'optimizer': optimizer.state_dict(),\n",
    "                'lr_scheduler': lr_scheduler.state_dict(),\n",
    "                'args': args,\n",
    "                'epoch': epoch\n",
    "            }\n",
    "            utils.save_on_master(\n",
    "                checkpoint,\n",
    "                os.path.join(args.output_dir, 'model_{}.pth'.format(epoch)))\n",
    "            utils.save_on_master(\n",
    "                checkpoint,\n",
    "                os.path.join(args.output_dir, 'checkpoint.pth'))\n",
    "\n",
    "    if epoch > 5 and epoch % 5 == 0 :\n",
    "        # evaluate after every epoch\n",
    "        evaluate(model, test_loader, device=device)    \n",
    "print('total time is {}'.format(time.time() - start_time))    "
   ]
  },
  {
   "cell_type": "code",
   "execution_count": null,
   "id": "4f20ad5b-dbc4-4b7c-880a-800df4e96e3c",
   "metadata": {},
   "outputs": [],
   "source": [
    "model"
   ]
  },
  {
   "cell_type": "code",
   "execution_count": null,
   "id": "29ae7c63-dee7-46a1-916d-a8e13e6cf20c",
   "metadata": {},
   "outputs": [],
   "source": []
  },
  {
   "cell_type": "code",
   "execution_count": null,
   "id": "70b51ded-faf6-4950-9f9a-2de14fddf56e",
   "metadata": {},
   "outputs": [],
   "source": []
  }
 ],
 "metadata": {
  "kernelspec": {
   "display_name": "pytorch",
   "language": "python",
   "name": "pytorch"
  },
  "language_info": {
   "codemirror_mode": {
    "name": "ipython",
    "version": 3
   },
   "file_extension": ".py",
   "mimetype": "text/x-python",
   "name": "python",
   "nbconvert_exporter": "python",
   "pygments_lexer": "ipython3",
   "version": "3.8.11"
  }
 },
 "nbformat": 4,
 "nbformat_minor": 5
}
